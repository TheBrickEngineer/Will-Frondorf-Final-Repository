{
 "cells": [
  {
   "cell_type": "markdown",
   "metadata": {},
   "source": [
    "# Project 2: Modeling the Spread of a Disease across High Point University's Campus using Different ODE Models\n",
    "## By Will Frondorf"
   ]
  },
  {
   "cell_type": "markdown",
   "metadata": {},
   "source": [
    "## Motivation\n",
    "This project arose from a combination of intrigue, morbid curiosity, and genuine fascination. Due to the current COVID-19 pandemic, modelling the spread and impact of a disease in specific areas and populations is more important than ever. This Python file models the spread of a disease across a university's campus, allowing for precise measurements of population change. It is also important for people to understand how diseases spread and what influences said spread. As someone who is genuinely interested in how diseases spread, especially across the place I live and work in, this project was very enjoyable and intriguing to work on.\n",
    "\n",
    "## What does this File Do?\n",
    "This Python file models the spread of a disease throughout different places on High Point University's campus. Not only does this file simply model the spread of infection and change in different populations, but the user can customize many aspects of the model. Each of the 4 preset models detail a different place on campus, each with hardcoded populations, disease carrier impact, and more. The user simply needs to enter information about interactions infected individuals have and how the disease is spread, and the code will do all the work. The functions will then produce a graph showing the change in populations over time given the user's information. Additionally, there is an option for a custom model. In this model, the user enters all the location's required information (such as total population size, rate of infection, and the length of time to model the disease), to generate a fully unique model that can serve whatever purpose the user needs.\n",
    "\n",
    "## Background and Math Involved\n",
    "This file makes use of the standard Susceptible-Infected-Recovered (SIR) Model of disease spread. This model ignores changes in population, such as births or deaths, allowing for a standard population to be adequently modeled. The SIR model compared three different populations: Susceptibles, Infecteds, and Recovereds. The total population is $N=S+I+R$. The three different populations are as follows:\n",
    "\n",
    "- Susceptibles: people who can become infected\n",
    "- Infecteds: people who have the disease and can spread it to the Susceptible population\n",
    "- Recovereds: people who have recovered from the disease\n",
    "\n",
    "## The Math at Play\n",
    "Various mathematical functions come into play when using the SIR model. For example, there are the rate of change functions for each population, shown here: $\\frac{dS}{dt}=-(r_{S,I})SI$, $\\frac{dR}{dt}=(r_{R,I})I$, and $\\frac{dI}{dt}=(r_{S,I})SI-(r_{R,I})I$. The variables $r_{S,I}$ and $r_{R,I}$ represent the transmission coefficient and recovery rate respectfully. The transmission coefficient tells how likely the disease will spread during an interaction of a susceptible and infected person. The recovery rate tells how quickly an infected person recovers from the disease. The transmission coefficient, $r_{S,I}$, is defined as $\\frac{fp_{trans}}{N}$, which is a proportion of the product of the number of interactions an infected person has with both the total and susceptible populations with the total population being observed.  "
   ]
  },
  {
   "cell_type": "code",
   "execution_count": null,
   "metadata": {},
   "outputs": [],
   "source": [
    "import numpy as np              #used to create arrays and do complex math\n",
    "import matplotlib.pyplot as plt #used to model data and make graphs\n",
    "import pandas as pd             #used to read a data file \n",
    "import sys                      #used to create the termination command\n",
    "import DiseaseModels            #used to import the various disease spread models\n",
    "import ode                      #used to import the ODEs used to model the spread of the disease (Euler, RK2, and, RK4)\n",
    "%matplotlib notebook            "
   ]
  },
  {
   "cell_type": "code",
   "execution_count": null,
   "metadata": {
    "scrolled": false
   },
   "outputs": [],
   "source": [
    "#Asking user which model they want to use.\n",
    "print(\"Model List:\")\n",
    "print(\"1=Wanek School of Natural Sciences, 2=Nido R. Quebin School of Communiations, 3=Millis Dorm, 4=Aldridge Village Dorm, 5=Custom\")\n",
    "Start=float(input(\"Model would you like to Use: \"))\n",
    "print()\n",
    "\n",
    "#Line that kills the code if a user enters a model that isn't on the list.\n",
    "if Start>=6 or Start<=0:\n",
    "    sys.exit(\"Code Killed! You need to enter a model that is on the list.\")\n",
    "    \n",
    "#Asking the user which carrier they want to use.\n",
    "print(\"Carrier List:\")\n",
    "print(\"1=Birds, 2=Rodents, 3=Insects, 4=Blood, 5=Saliva, 6=Touch, 7=Air, 8=Water, 9=None\")\n",
    "CarrierInput=input(\"Carrier of the disease: \")\n",
    "\n",
    "#Asking the user for the initial interaction numbers to model the spread. \n",
    "print()\n",
    "IntInput=float(input(\"Enter a number of daily interactions an infected person has with the total population: \"))\n",
    "InfRateInput=float(input(\"Enter a number of how many interactions between an infected person and a susceptible person it takes to result in infection: \"))\n",
    "\n",
    "#Asking the user how long the recovery rate for the disease is.\n",
    "print()\n",
    "RecoveryInput=float(input(\"How long (in days) does it take for people to recover from the disease? \"))\n",
    "\n",
    "#Asking the user how long they want the model to run for.\n",
    "print()\n",
    "TimeInput=float(input(\"How long (in days) would you like to model the disease over? \"))\n",
    "print(\"-----------------------------------------------------------------------------------------------------------------------\")\n",
    "\n",
    "#These if-statements determine which model will be run based on the input from the user.\n",
    "if Start==1:\n",
    "    DiseaseModels.WSNSModel(CarrierInput,IntInput,InfRateInput,RecoveryInput,TimeInput)\n",
    "if Start==2:\n",
    "    DiseaseModels.NQSCModel(CarrierInput,IntInput,InfRateInput,RecoveryInput,TimeInput)\n",
    "if Start==3:\n",
    "    DiseaseModels.MiDmModel(CarrierInput,IntInput,InfRateInput,RecoveryInput,TimeInput)\n",
    "if Start==4:\n",
    "    DiseaseModels.ViDmModel(CarrierInput,IntInput,InfRateInput,RecoveryInput,TimeInput)\n",
    "if Start==5:\n",
    "    CustomName=input(\"Enter the name of the place you're modeling: \")\n",
    "    DiseaseModels.CustomModel(CustomName,IntInput,InfRateInput,RecoveryInput,TimeInput)"
   ]
  }
 ],
 "metadata": {
  "kernelspec": {
   "display_name": "Python 3",
   "language": "python",
   "name": "python3"
  },
  "language_info": {
   "codemirror_mode": {
    "name": "ipython",
    "version": 3
   },
   "file_extension": ".py",
   "mimetype": "text/x-python",
   "name": "python",
   "nbconvert_exporter": "python",
   "pygments_lexer": "ipython3",
   "version": "3.7.1"
  }
 },
 "nbformat": 4,
 "nbformat_minor": 2
}
